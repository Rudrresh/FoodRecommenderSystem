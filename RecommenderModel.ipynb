{
 "cells": [
  {
   "cell_type": "raw",
   "id": "d495efdb-9c4b-40ea-b9f8-61c6cf0443a3",
   "metadata": {},
   "source": [
    "FOOD RECOMMENDER SYSTEM"
   ]
  },
  {
   "cell_type": "code",
   "execution_count": 2,
   "id": "bb1a3e65-ec5e-4106-b7b2-aa8feaea665b",
   "metadata": {},
   "outputs": [],
   "source": [
    "import numpy as np\n",
    "import pandas as pd\n",
    "import matplotlib.pyplot as plt\n",
    "%matplotlib inline\n",
    "\n"
   ]
  },
  {
   "cell_type": "code",
   "execution_count": 3,
   "id": "e0064f59-ba76-45cd-b3c0-aa93d7453b68",
   "metadata": {},
   "outputs": [
    {
     "data": {
      "text/html": [
       "<div>\n",
       "<style scoped>\n",
       "    .dataframe tbody tr th:only-of-type {\n",
       "        vertical-align: middle;\n",
       "    }\n",
       "\n",
       "    .dataframe tbody tr th {\n",
       "        vertical-align: top;\n",
       "    }\n",
       "\n",
       "    .dataframe thead th {\n",
       "        text-align: right;\n",
       "    }\n",
       "</style>\n",
       "<table border=\"1\" class=\"dataframe\">\n",
       "  <thead>\n",
       "    <tr style=\"text-align: right;\">\n",
       "      <th></th>\n",
       "      <th>Food_ID</th>\n",
       "      <th>Name</th>\n",
       "      <th>Taste</th>\n",
       "      <th>Cuisine</th>\n",
       "      <th>Veg_Non</th>\n",
       "      <th>Rating</th>\n",
       "    </tr>\n",
       "  </thead>\n",
       "  <tbody>\n",
       "    <tr>\n",
       "      <th>0</th>\n",
       "      <td>1</td>\n",
       "      <td>summer squash salad</td>\n",
       "      <td>sweet</td>\n",
       "      <td>Western</td>\n",
       "      <td>veg</td>\n",
       "      <td>6</td>\n",
       "    </tr>\n",
       "    <tr>\n",
       "      <th>1</th>\n",
       "      <td>2</td>\n",
       "      <td>chicken minced salad</td>\n",
       "      <td>umami</td>\n",
       "      <td>Indian</td>\n",
       "      <td>non-veg</td>\n",
       "      <td>3</td>\n",
       "    </tr>\n",
       "    <tr>\n",
       "      <th>2</th>\n",
       "      <td>3</td>\n",
       "      <td>sweet chilli almonds</td>\n",
       "      <td>savory</td>\n",
       "      <td>Indian</td>\n",
       "      <td>veg</td>\n",
       "      <td>10</td>\n",
       "    </tr>\n",
       "    <tr>\n",
       "      <th>3</th>\n",
       "      <td>4</td>\n",
       "      <td>tricolour salad</td>\n",
       "      <td>savory</td>\n",
       "      <td>Indian</td>\n",
       "      <td>veg</td>\n",
       "      <td>2</td>\n",
       "    </tr>\n",
       "    <tr>\n",
       "      <th>4</th>\n",
       "      <td>5</td>\n",
       "      <td>christmas cake</td>\n",
       "      <td>sweet</td>\n",
       "      <td>English</td>\n",
       "      <td>veg</td>\n",
       "      <td>4</td>\n",
       "    </tr>\n",
       "  </tbody>\n",
       "</table>\n",
       "</div>"
      ],
      "text/plain": [
       "   Food_ID                  Name   Taste  Cuisine  Veg_Non  Rating\n",
       "0        1   summer squash salad   sweet  Western      veg       6\n",
       "1        2  chicken minced salad   umami   Indian  non-veg       3\n",
       "2        3  sweet chilli almonds  savory   Indian      veg      10\n",
       "3        4       tricolour salad  savory   Indian      veg       2\n",
       "4        5        christmas cake   sweet  English      veg       4"
      ]
     },
     "execution_count": 3,
     "metadata": {},
     "output_type": "execute_result"
    }
   ],
   "source": [
    "data = pd.read_excel('food.xlsx')\n",
    "data.head()\n"
   ]
  },
  {
   "cell_type": "code",
   "execution_count": 4,
   "id": "a0771b36-d807-43e1-9596-8d18df6dab3c",
   "metadata": {},
   "outputs": [
    {
     "name": "stdout",
     "output_type": "stream",
     "text": [
      "<class 'pandas.core.frame.DataFrame'>\n",
      "RangeIndex: 400 entries, 0 to 399\n",
      "Data columns (total 6 columns):\n",
      " #   Column   Non-Null Count  Dtype \n",
      "---  ------   --------------  ----- \n",
      " 0   Food_ID  400 non-null    int64 \n",
      " 1   Name     400 non-null    object\n",
      " 2   Taste    400 non-null    object\n",
      " 3   Cuisine  400 non-null    object\n",
      " 4   Veg_Non  400 non-null    object\n",
      " 5   Rating   400 non-null    int64 \n",
      "dtypes: int64(2), object(4)\n",
      "memory usage: 18.9+ KB\n"
     ]
    }
   ],
   "source": [
    "data.info()"
   ]
  },
  {
   "cell_type": "code",
   "execution_count": 5,
   "id": "7ffd3cc6-33cc-46bb-bd6f-fd08ac475e99",
   "metadata": {},
   "outputs": [
    {
     "data": {
      "text/plain": [
       "array(['Western', 'Indian', 'English', 'Japanese', 'Italian', 'Mexican',\n",
       "       'Thai', 'French', 'Chinese', 'Turkish', 'Swedish', 'German',\n",
       "       'Spanish', 'Korean', 'Vietnames', 'Nepalese'], dtype=object)"
      ]
     },
     "execution_count": 5,
     "metadata": {},
     "output_type": "execute_result"
    }
   ],
   "source": [
    "data.Cuisine.unique()"
   ]
  },
  {
   "cell_type": "code",
   "execution_count": 6,
   "id": "69c81b68-ef05-441f-8077-5d7afb5354c3",
   "metadata": {},
   "outputs": [
    {
     "data": {
      "text/html": [
       "<div>\n",
       "<style scoped>\n",
       "    .dataframe tbody tr th:only-of-type {\n",
       "        vertical-align: middle;\n",
       "    }\n",
       "\n",
       "    .dataframe tbody tr th {\n",
       "        vertical-align: top;\n",
       "    }\n",
       "\n",
       "    .dataframe thead th {\n",
       "        text-align: right;\n",
       "    }\n",
       "</style>\n",
       "<table border=\"1\" class=\"dataframe\">\n",
       "  <thead>\n",
       "    <tr style=\"text-align: right;\">\n",
       "      <th></th>\n",
       "      <th>Food_ID</th>\n",
       "      <th>Name</th>\n",
       "      <th>Taste</th>\n",
       "      <th>Cuisine</th>\n",
       "      <th>Veg_Non</th>\n",
       "      <th>Rating</th>\n",
       "    </tr>\n",
       "  </thead>\n",
       "  <tbody>\n",
       "    <tr>\n",
       "      <th>0</th>\n",
       "      <td>1</td>\n",
       "      <td>summer squash salad</td>\n",
       "      <td>sweet</td>\n",
       "      <td>Western</td>\n",
       "      <td>veg</td>\n",
       "      <td>6</td>\n",
       "    </tr>\n",
       "    <tr>\n",
       "      <th>1</th>\n",
       "      <td>2</td>\n",
       "      <td>chicken minced salad</td>\n",
       "      <td>umami</td>\n",
       "      <td>Indian</td>\n",
       "      <td>non-veg</td>\n",
       "      <td>3</td>\n",
       "    </tr>\n",
       "    <tr>\n",
       "      <th>2</th>\n",
       "      <td>3</td>\n",
       "      <td>sweet chilli almonds</td>\n",
       "      <td>savory</td>\n",
       "      <td>Indian</td>\n",
       "      <td>veg</td>\n",
       "      <td>10</td>\n",
       "    </tr>\n",
       "    <tr>\n",
       "      <th>3</th>\n",
       "      <td>4</td>\n",
       "      <td>tricolour salad</td>\n",
       "      <td>savory</td>\n",
       "      <td>Indian</td>\n",
       "      <td>veg</td>\n",
       "      <td>2</td>\n",
       "    </tr>\n",
       "    <tr>\n",
       "      <th>4</th>\n",
       "      <td>5</td>\n",
       "      <td>christmas cake</td>\n",
       "      <td>sweet</td>\n",
       "      <td>English</td>\n",
       "      <td>veg</td>\n",
       "      <td>4</td>\n",
       "    </tr>\n",
       "  </tbody>\n",
       "</table>\n",
       "</div>"
      ],
      "text/plain": [
       "   Food_ID                  Name   Taste  Cuisine  Veg_Non  Rating\n",
       "0        1   summer squash salad   sweet  Western      veg       6\n",
       "1        2  chicken minced salad   umami   Indian  non-veg       3\n",
       "2        3  sweet chilli almonds  savory   Indian      veg      10\n",
       "3        4       tricolour salad  savory   Indian      veg       2\n",
       "4        5        christmas cake   sweet  English      veg       4"
      ]
     },
     "execution_count": 6,
     "metadata": {},
     "output_type": "execute_result"
    }
   ],
   "source": [
    "data.head()"
   ]
  },
  {
   "cell_type": "code",
   "execution_count": 7,
   "id": "415e2363-0ad4-4d93-8cc7-4d973349adb9",
   "metadata": {},
   "outputs": [
    {
     "data": {
      "text/plain": [
       "0        1\n",
       "1        2\n",
       "2        3\n",
       "3        4\n",
       "4        5\n",
       "      ... \n",
       "395    396\n",
       "396    397\n",
       "397    398\n",
       "398    399\n",
       "399    400\n",
       "Name: Food_ID, Length: 400, dtype: int64"
      ]
     },
     "execution_count": 7,
     "metadata": {},
     "output_type": "execute_result"
    }
   ],
   "source": [
    "data['Food_ID']"
   ]
  },
  {
   "cell_type": "code",
   "execution_count": 8,
   "id": "b415a54f-91af-481a-8bce-f6af4361035b",
   "metadata": {},
   "outputs": [
    {
     "data": {
      "text/html": [
       "<div>\n",
       "<style scoped>\n",
       "    .dataframe tbody tr th:only-of-type {\n",
       "        vertical-align: middle;\n",
       "    }\n",
       "\n",
       "    .dataframe tbody tr th {\n",
       "        vertical-align: top;\n",
       "    }\n",
       "\n",
       "    .dataframe thead th {\n",
       "        text-align: right;\n",
       "    }\n",
       "</style>\n",
       "<table border=\"1\" class=\"dataframe\">\n",
       "  <thead>\n",
       "    <tr style=\"text-align: right;\">\n",
       "      <th></th>\n",
       "      <th>Name</th>\n",
       "      <th>Taste</th>\n",
       "      <th>Cuisine</th>\n",
       "      <th>Veg_Non</th>\n",
       "      <th>Rating</th>\n",
       "    </tr>\n",
       "  </thead>\n",
       "  <tbody>\n",
       "    <tr>\n",
       "      <th>0</th>\n",
       "      <td>summer squash salad</td>\n",
       "      <td>sweet</td>\n",
       "      <td>Western</td>\n",
       "      <td>veg</td>\n",
       "      <td>6</td>\n",
       "    </tr>\n",
       "    <tr>\n",
       "      <th>1</th>\n",
       "      <td>chicken minced salad</td>\n",
       "      <td>umami</td>\n",
       "      <td>Indian</td>\n",
       "      <td>non-veg</td>\n",
       "      <td>3</td>\n",
       "    </tr>\n",
       "    <tr>\n",
       "      <th>2</th>\n",
       "      <td>sweet chilli almonds</td>\n",
       "      <td>savory</td>\n",
       "      <td>Indian</td>\n",
       "      <td>veg</td>\n",
       "      <td>10</td>\n",
       "    </tr>\n",
       "    <tr>\n",
       "      <th>3</th>\n",
       "      <td>tricolour salad</td>\n",
       "      <td>savory</td>\n",
       "      <td>Indian</td>\n",
       "      <td>veg</td>\n",
       "      <td>2</td>\n",
       "    </tr>\n",
       "    <tr>\n",
       "      <th>4</th>\n",
       "      <td>christmas cake</td>\n",
       "      <td>sweet</td>\n",
       "      <td>English</td>\n",
       "      <td>veg</td>\n",
       "      <td>4</td>\n",
       "    </tr>\n",
       "  </tbody>\n",
       "</table>\n",
       "</div>"
      ],
      "text/plain": [
       "                   Name   Taste  Cuisine  Veg_Non  Rating\n",
       "0   summer squash salad   sweet  Western      veg       6\n",
       "1  chicken minced salad   umami   Indian  non-veg       3\n",
       "2  sweet chilli almonds  savory   Indian      veg      10\n",
       "3       tricolour salad  savory   Indian      veg       2\n",
       "4        christmas cake   sweet  English      veg       4"
      ]
     },
     "execution_count": 8,
     "metadata": {},
     "output_type": "execute_result"
    }
   ],
   "source": [
    "new_cols = ['Name', 'Taste', 'Cuisine','Veg_Non','Rating']\n",
    "df = data[new_cols]\n",
    "df.head()"
   ]
  },
  {
   "cell_type": "code",
   "execution_count": 9,
   "id": "94d29c22-7361-4598-bd37-d5d09206a3b9",
   "metadata": {},
   "outputs": [
    {
     "name": "stdout",
     "output_type": "stream",
     "text": [
      "Requirement already satisfied: kmodes in c:\\ides\\lib\\site-packages (0.12.2)\n",
      "Requirement already satisfied: numpy>=1.10.4 in c:\\ides\\lib\\site-packages (from kmodes) (1.21.6)\n",
      "Requirement already satisfied: scipy>=0.13.3 in c:\\ides\\lib\\site-packages (from kmodes) (1.7.3)\n",
      "Requirement already satisfied: scikit-learn>=0.22.0 in c:\\ides\\lib\\site-packages (from kmodes) (1.0.2)\n",
      "Requirement already satisfied: joblib>=0.11 in c:\\ides\\lib\\site-packages (from kmodes) (1.1.1)\n",
      "Requirement already satisfied: threadpoolctl>=2.0.0 in c:\\ides\\lib\\site-packages (from scikit-learn>=0.22.0->kmodes) (2.2.0)\n"
     ]
    }
   ],
   "source": [
    "!pip install kmodes"
   ]
  },
  {
   "cell_type": "code",
   "execution_count": 10,
   "id": "c2e148ff-059f-4107-86b0-11b315bdfcf1",
   "metadata": {},
   "outputs": [],
   "source": [
    "from kmodes.kmodes import KModes"
   ]
  },
  {
   "cell_type": "code",
   "execution_count": 11,
   "id": "25fd8649-1c75-4569-a20d-1edb6ae67759",
   "metadata": {},
   "outputs": [
    {
     "name": "stdout",
     "output_type": "stream",
     "text": [
      "Initialization method and algorithm are deterministic. Setting n_init to 1.\n",
      "Init: initializing centroids\n",
      "Init: initializing clusters\n",
      "Starting iterations...\n",
      "Run 1, iteration: 1/100, moves: 60, cost: 1055.0\n",
      "Run 1, iteration: 2/100, moves: 28, cost: 1045.0\n",
      "Run 1, iteration: 3/100, moves: 20, cost: 1045.0\n"
     ]
    }
   ],
   "source": [
    "k1 = 6\n",
    "km = KModes(n_clusters=k1, n_init=400,verbose=1)\n",
    "clusters1 = km.fit_predict(df)\n"
   ]
  },
  {
   "cell_type": "code",
   "execution_count": 12,
   "id": "2365dbb1-e80b-469d-a9f9-6c944d0d1645",
   "metadata": {},
   "outputs": [
    {
     "name": "stdout",
     "output_type": "stream",
     "text": [
      "2                         sweet chilli almonds\n",
      "5    japanese curry arancini with barley salsa\n",
      "0                          summer squash salad\n",
      "4                               christmas cake\n",
      "1                         chicken minced salad\n",
      "3                              tricolour salad\n",
      "Name: Name, dtype: object\n",
      "[4 2 5 5 2 3]\n"
     ]
    }
   ],
   "source": [
    "user_food = ['summer squash salad','sweet','Western','veg' ,'6']\n",
    "\n",
    "distances1 = np.sum(km.cluster_centroids_ != user_food, axis=1)\n",
    "nearest_indices = np.argsort(distances1)[:10]\n",
    "nearest_points = df.iloc[nearest_indices].sort_values('Rating', ascending=False)['Name']\n",
    "\n",
    "\n",
    "print(nearest_points)\n",
    "print(distances1)"
   ]
  },
  {
   "cell_type": "code",
   "execution_count": 13,
   "id": "fac8db8f-d1b1-4a51-8721-b2036696f506",
   "metadata": {},
   "outputs": [
    {
     "name": "stdout",
     "output_type": "stream",
     "text": [
      "[3 4 4 3 4 4]\n",
      "[0 3 1 2 4 5]\n",
      "2                         sweet chilli almonds\n",
      "5    japanese curry arancini with barley salsa\n",
      "0                          summer squash salad\n",
      "4                               christmas cake\n",
      "1                         chicken minced salad\n",
      "3                              tricolour salad\n",
      "Name: Name, dtype: object\n"
     ]
    }
   ],
   "source": [
    "user_food2 = ['khichdi','spicy','Indian','veg','10']\n",
    "distances2 = np.sum(km.cluster_centroids_ != user_food2, axis=1)\n",
    "print(distances2)\n",
    "nearest_indices2 = np.argsort(distances2)[:10]\n",
    "print(nearest_indices2)\n",
    "nearest_points2 = df.iloc[nearest_indices2].sort_values('Rating', ascending=False)['Name']\n",
    "\n",
    "print(nearest_points2)"
   ]
  },
  {
   "cell_type": "code",
   "execution_count": 15,
   "id": "93de7b04-f161-41bd-9dc2-a589712f62f8",
   "metadata": {},
   "outputs": [
    {
     "name": "stdout",
     "output_type": "stream",
     "text": [
      "[3 3 5 5 4 3]\n",
      "\n",
      "\n",
      "argsort values [0 1 5 4 2 3]\n",
      "[0 1 5 4 2 3]\n",
      "2                         sweet chilli almonds\n",
      "5    japanese curry arancini with barley salsa\n",
      "0                          summer squash salad\n",
      "4                               christmas cake\n",
      "1                         chicken minced salad\n",
      "3                              tricolour salad\n",
      "Name: Name, dtype: object\n"
     ]
    }
   ],
   "source": [
    "user_food3 = [['filo pizza','savory','Italian','veg','1']]\n",
    "distances3 = np.sum(km.cluster_centroids_ != user_food3, axis=1)\n",
    "print(distances3)\n",
    "print('\\n')\n",
    "nearest_indices3 = np.argsort(distances3)[:10]\n",
    "print(\"argsort values\", np.argsort(distances3))\n",
    "\n",
    "print(nearest_indices3)\n",
    "nearest_points3 = df.iloc[nearest_indices3].sort_values('Rating', ascending=False)['Name']\n",
    "\n",
    "print(nearest_points3)"
   ]
  },
  {
   "cell_type": "code",
   "execution_count": 19,
   "id": "f8d6aac0-04ab-466a-9343-453300b39f72",
   "metadata": {},
   "outputs": [
    {
     "name": "stdout",
     "output_type": "stream",
     "text": [
      "Initialization method and algorithm are deterministic. Setting n_init to 1.\n",
      "Init: initializing centroids\n",
      "Init: initializing clusters\n",
      "Starting iterations...\n",
      "Run 1, iteration: 1/100, moves: 60, cost: 1055.0\n",
      "Run 1, iteration: 2/100, moves: 28, cost: 1045.0\n",
      "Run 1, iteration: 3/100, moves: 20, cost: 1045.0\n",
      "                                       Name   Taste  Cuisine Veg_Non  Rating\n",
      "286                   pasta in cheese sauce  savory  Italian     veg       8\n",
      "183                    vegetable bruschetta  savory  Italian     veg       8\n",
      "263                        kuttu atta pizza  savory  Italian     veg       5\n",
      "379  Parmesan Cauliflower and Parsley Salad  savory  Italian     veg       5\n",
      "356                         Parmesan Toasts  savory  Italian     veg       4\n",
      "335                        Potato Casserole  savory  Italian     veg       3\n",
      "60   crunchy vegetable dal sattu croquettes  savory  Italian     veg       3\n",
      "54                               filo pizza  savory  Italian     veg       1\n",
      "48                     christmas tree pizza  savory  Italian     veg       1\n",
      "385           Pasta with Garlic-Scape Pesto  savory  Italian     veg       1\n"
     ]
    }
   ],
   "source": [
    "import numpy as np\n",
    "from kmodes.kmodes import KModes\n",
    "\n",
    "k1 = 6\n",
    "km = KModes(n_clusters=k1, n_init=400, verbose=1)\n",
    "clusters1 = km.fit_predict(df)\n",
    "\n",
    "user_food3 = ['filo pizza', 'savory', 'Italian', 'veg', '1']\n",
    "distances3 = np.sum(df != user_food3, axis=1)  # Calculate dissimilarity with each data point\n",
    "nearest_indices3 = np.argsort(distances3)[:10]\n",
    "nearest_points3 = df.iloc[nearest_indices3]\n",
    "nearest_points3 = nearest_points3.sort_values(by='Rating',ascending=False)\n",
    "\n",
    "print(nearest_points3)"
   ]
  },
  {
   "cell_type": "code",
   "execution_count": 33,
   "id": "84f122f5-b485-4ade-b866-0da3bc33433c",
   "metadata": {},
   "outputs": [],
   "source": [
    "def giveRecommendation(food):\n",
    "    distance = np.sum(df != food, axis=1)\n",
    "    nearest_indices = np.argsort(distance)[:10]\n",
    "    nearest_points = df.iloc[nearest_indices]\n",
    "    nearest_points = nearest_points.sort_values(by='Rating',ascending=False)\n",
    "    food_rec = nearest_points['Name'].tolist()\n",
    "    print(\"Here are your top 10 recommendations for \",food[0])\n",
    "    for i in range(0,len(food_rec)):\n",
    "        print(\"{}. {}\".format(i+1,food_rec[i]))"
   ]
  },
  {
   "cell_type": "code",
   "execution_count": 34,
   "id": "1f4b8509-e5e4-4de4-92ae-dd0c024ff90c",
   "metadata": {},
   "outputs": [
    {
     "name": "stdout",
     "output_type": "stream",
     "text": [
      "Here are your top 10 recommendations for  Parmesan Toasts\n",
      "1. pasta in cheese sauce\n",
      "2. vegetable bruschetta\n",
      "3. kuttu atta pizza\n",
      "4. Parmesan Cauliflower and Parsley Salad\n",
      "5. Parmesan Toasts\n",
      "6. Potato Casserole\n",
      "7. crunchy vegetable dal sattu croquettes\n",
      "8. christmas tree pizza\n",
      "9. filo pizza\n",
      "10. Pasta with Garlic-Scape Pesto\n"
     ]
    }
   ],
   "source": [
    "# example working of the recommendation system\n",
    "user_food4 = ['Parmesan Toasts','savory','Italian','veg','5']\n",
    "giveRecommendation(user_food4)"
   ]
  }
 ],
 "metadata": {
  "kernelspec": {
   "display_name": "Python 3.11.3",
   "language": "python",
   "name": "python3.11.3"
  },
  "language_info": {
   "codemirror_mode": {
    "name": "ipython",
    "version": 3
   },
   "file_extension": ".py",
   "mimetype": "text/x-python",
   "name": "python",
   "nbconvert_exporter": "python",
   "pygments_lexer": "ipython3",
   "version": "3.9.12"
  }
 },
 "nbformat": 4,
 "nbformat_minor": 5
}
